{
 "cells": [
  {
   "cell_type": "code",
   "execution_count": null,
   "metadata": {},
   "outputs": [],
   "source": [
    "import pandas as pd\n",
    "import numpy as np\n",
    "import torchtext\n",
    "from scipy.stats import pearsonr"
   ]
  },
  {
   "cell_type": "code",
   "execution_count": null,
   "metadata": {},
   "outputs": [],
   "source": [
    "# Load the human data - English\n",
    "english_ratings = pd.read_csv('./human_data/english_word_ratings.csv')\n",
    "english_ratings.columns = [i.split('[')[1][:-1] for i in english_ratings.columns]\n",
    "english_ratings.head()"
   ]
  },
  {
   "cell_type": "code",
   "execution_count": null,
   "metadata": {},
   "outputs": [],
   "source": [
    "# Compute means of human ratings for each word\n",
    "english_means = pd.Series([np.mean(english_ratings[col]) for col in english_ratings.columns])"
   ]
  },
  {
   "cell_type": "code",
   "execution_count": null,
   "metadata": {},
   "outputs": [],
   "source": [
    "# FastText 2M embeddings - English\n",
    "# Compute cosine similarities for the words rated by humans\n",
    "vectors = torchtext.vocab.Vectors(name='crawl-300d-2M.vec', cache='.vector_cache')\n",
    "teen_emb = vectors.get_vecs_by_tokens('teenager').numpy()\n",
    "model_word_embs = np.stack([vectors.get_vecs_by_tokens(word.lower()).numpy() for word in english_ratings.columns])\n",
    "teen_model_cos_sims = np.dot(model_word_embs, teen_emb) / (np.linalg.norm(model_word_embs, axis=1) * np.linalg.norm(teen_emb))\n",
    "\n",
    "# Write human means and model cosine similarities to a tsv file\n",
    "df = pd.DataFrame({'human_means': english_means, 'teen_model_cos_sims': teen_model_cos_sims})\n",
    "df.to_csv('human_ai_comparison_results/english_ft_human_ai_sims.tsv', sep='\\t', index=False)\n",
    "\n",
    "# Compute Pearson correlation between human means and model cosine similarities\n",
    "corr, p = pearsonr(english_means, teen_model_cos_sims)\n",
    "print(f'Pearson correlation: {corr:.2f}, p-value: {p:.2f}')"
   ]
  },
  {
   "cell_type": "code",
   "execution_count": null,
   "metadata": {},
   "outputs": [],
   "source": [
    "# GloVe 840B embeddings - English\n",
    "# Compute cosine similarities for the words rated by humans\n",
    "vectors = torchtext.vocab.Vectors(name='glove.840B.300d.txt', cache='.vector_cache')\n",
    "teen_emb = vectors.get_vecs_by_tokens('teenager').numpy()\n",
    "model_word_embs = np.stack([vectors.get_vecs_by_tokens(word.lower()).numpy() for word in english_ratings.columns])\n",
    "teen_model_cos_sims = np.dot(model_word_embs, teen_emb) / (np.linalg.norm(model_word_embs, axis=1) * np.linalg.norm(teen_emb))\n",
    "\n",
    "# Write human means and model cosine similarities to a tsv file\n",
    "df = pd.DataFrame({'human_means': english_means, 'teen_model_cos_sims': teen_model_cos_sims})\n",
    "df.to_csv('human_ai_comparison_results/english_glove_human_ai_sims.tsv', sep='\\t', index=False)\n",
    "\n",
    "# Compute Pearson correlation between human means and model cosine similarities\n",
    "corr, p = pearsonr(english_means, teen_model_cos_sims)\n",
    "print(f'Pearson correlation: {corr:.2f}, p-value: {p:.2f}')"
   ]
  },
  {
   "cell_type": "code",
   "execution_count": null,
   "metadata": {},
   "outputs": [],
   "source": [
    "# Load the human data - Nepali\n",
    "nepali_ratings = pd.read_csv('./human_data/nepali_word_ratings.csv')\n",
    "nepali_ratings.columns = [i.split('[')[1][:-1] for i in nepali_ratings.columns]\n",
    "nepali_ratings.head()"
   ]
  },
  {
   "cell_type": "code",
   "execution_count": null,
   "metadata": {},
   "outputs": [],
   "source": [
    "# Compute means of human ratings for each word\n",
    "nepali_means = pd.Series([np.mean(nepali_ratings[col]) for col in nepali_ratings.columns])"
   ]
  },
  {
   "cell_type": "code",
   "execution_count": null,
   "metadata": {},
   "outputs": [],
   "source": [
    "# Use translations of the English words to Nepali, rather than spreadsheet English\n",
    "nepali_translation_dict = {\n",
    "    'rebellious': 'विद्रोही',\n",
    "    'energetic': 'ऊर्जावान',\n",
    "    'moody': 'मुडी',\n",
    "    'curious': 'उत्सुक',\n",
    "    'independent': 'स्वतन्त्र',\n",
    "    'social': 'सामाजिक',\n",
    "    'impulsive': 'आकस्मिक',\n",
    "    'creative': 'सृजनात्मक',\n",
    "    'confident': 'आत्मविश्वासी',\n",
    "    'thoughtful': 'विचारशील',\n",
    "    'carefree': 'चिन्तामुक्त',\n",
    "    'adventurous': 'साहसी',\n",
    "    'inquisitive': 'जिज्ञासु',\n",
    "    'emotional': 'भावनात्मक',\n",
    "    'restless': 'बेचैन',\n",
    "    'innovative': 'अभिनव',\n",
    "    'idealistic': 'आदर्शवादी',\n",
    "    'opinionated': 'विचारशील',\n",
    "    'resourceful': 'संसाधन',\n",
    "    'influential': 'प्रभावशाली'\n",
    "}"
   ]
  },
  {
   "cell_type": "code",
   "execution_count": null,
   "metadata": {},
   "outputs": [],
   "source": [
    "# FastText CC embeddings - Nepali\n",
    "# Compute cosine similarities for the words rated by humans\n",
    "vectors = torchtext.vocab.Vectors(name='cc.ne.300.vec', cache='.vector_cache')\n",
    "teen_emb = vectors.get_vecs_by_tokens('किशोर').numpy()\n",
    "\n",
    "for engl, word in nepali_translation_dict.items():\n",
    "    if word not in vectors.stoi:\n",
    "        print(engl)\n",
    "\n",
    "model_word_embs = np.stack([vectors.get_vecs_by_tokens(nepali_translation_dict[word.lower()]).numpy() for word in nepali_ratings.columns])\n",
    "teen_model_cos_sims = np.dot(model_word_embs, teen_emb) / (np.linalg.norm(model_word_embs, axis=1) * np.linalg.norm(teen_emb))\n",
    "\n",
    "# Remove embedding NaN values\n",
    "nepali_means = nepali_means[~np.isnan(teen_model_cos_sims)]\n",
    "teen_model_cos_sims = teen_model_cos_sims[~np.isnan(teen_model_cos_sims)]\n",
    "\n",
    "# Write human means and model cosine similarities to a tsv file\n",
    "df = pd.DataFrame({'human_means': nepali_means, 'teen_model_cos_sims': teen_model_cos_sims})\n",
    "df.to_csv('human_ai_comparison_results/nepali_ftcc_human_ai_sims.tsv', sep='\\t', index=False)\n",
    "\n",
    "# Compute Pearson correlation between human means and model cosine similarities\n",
    "corr, p = pearsonr(nepali_means, teen_model_cos_sims)\n",
    "print(f'Pearson correlation: {corr:.2f}, p-value: {p:.2f}')"
   ]
  },
  {
   "cell_type": "code",
   "execution_count": null,
   "metadata": {},
   "outputs": [],
   "source": [
    "# Reset Nepali means\n",
    "nepali_means = pd.Series([np.mean(nepali_ratings[col]) for col in nepali_ratings.columns])"
   ]
  },
  {
   "cell_type": "code",
   "execution_count": null,
   "metadata": {},
   "outputs": [],
   "source": [
    "# GloVe 840B embeddings - Nepali\n",
    "# Compute cosine similarities for the words rated by humans\n",
    "vectors = torchtext.vocab.Vectors(name='nepali_glove_vectors.txt', cache='.vector_cache')\n",
    "teen_emb = vectors.get_vecs_by_tokens('किशोर').numpy()\n",
    "\n",
    "for engl, word in nepali_translation_dict.items():\n",
    "    if word not in vectors.stoi:\n",
    "        print(engl)\n",
    "\n",
    "model_word_embs = np.stack([vectors.get_vecs_by_tokens(nepali_translation_dict[word.lower()]).numpy() for word in nepali_ratings.columns])\n",
    "teen_model_cos_sims = np.dot(model_word_embs, teen_emb) / (np.linalg.norm(model_word_embs, axis=1) * np.linalg.norm(teen_emb))\n",
    "\n",
    "# Remove embedding NaN values\n",
    "nepali_means = nepali_means[~np.isnan(teen_model_cos_sims)]\n",
    "teen_model_cos_sims = teen_model_cos_sims[~np.isnan(teen_model_cos_sims)]\n",
    "\n",
    "# Write human means and model cosine similarities to a tsv file\n",
    "df = pd.DataFrame({'human_means': nepali_means, 'teen_model_cos_sims': teen_model_cos_sims})\n",
    "df.to_csv('human_ai_comparison_results/nepali_glove_human_ai_sims.tsv', sep='\\t', index=False)\n",
    "\n",
    "# Compute Pearson correlation between human means and model cosine similarities\n",
    "corr, p = pearsonr(nepali_means, teen_model_cos_sims)\n",
    "print(f'Pearson correlation: {corr:.2f}, p-value: {p:.2f}')"
   ]
  }
 ],
 "metadata": {
  "kernelspec": {
   "display_name": "deep_learning",
   "language": "python",
   "name": "python3"
  },
  "language_info": {
   "codemirror_mode": {
    "name": "ipython",
    "version": 3
   },
   "file_extension": ".py",
   "mimetype": "text/x-python",
   "name": "python",
   "nbconvert_exporter": "python",
   "pygments_lexer": "ipython3",
   "version": "3.11.4"
  }
 },
 "nbformat": 4,
 "nbformat_minor": 2
}
