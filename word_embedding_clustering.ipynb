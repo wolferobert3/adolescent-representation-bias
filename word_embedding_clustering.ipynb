{
 "cells": [
  {
   "cell_type": "code",
   "execution_count": null,
   "metadata": {},
   "outputs": [],
   "source": [
    "import pandas as pd\n",
    "import numpy as np\n",
    "import umap.umap_ as umap\n",
    "import torchtext\n",
    "\n",
    "from sklearn.cluster import KMeans\n",
    "from sklearn.metrics import silhouette_score"
   ]
  },
  {
   "cell_type": "code",
   "execution_count": null,
   "metadata": {},
   "outputs": [],
   "source": [
    "# Set random seed\n",
    "np.random.seed(42)"
   ]
  },
  {
   "cell_type": "code",
   "execution_count": null,
   "metadata": {},
   "outputs": [],
   "source": [
    "def cluster_similarities(embedding_name: str,\n",
    "                         cache_path: str,\n",
    "                         input_file: str,\n",
    "                         result_type: str,\n",
    "                         save_name: str) -> None:\n",
    "    \"\"\"\n",
    "    Cluster the words most similar to teenager either based on mean similarity or effect size.\n",
    "    \"\"\"\n",
    "\n",
    "    # Load appropriate vectors\n",
    "    vectors = torchtext.vocab.Vectors(name=embedding_name, cache=cache_path)\n",
    "\n",
    "    # Load results\n",
    "    teen_sims = pd.read_csv(input_file, header=None, index_col=0, on_bad_lines = 'warn')\n",
    "    \n",
    "    # Get target words and embeddings\n",
    "    words = teen_sims.index.values\n",
    "    embeddings = np.stack([vectors.get_vecs_by_tokens(word).numpy() for word in words])\n",
    "\n",
    "    # Examine best number of clusters\n",
    "    max_, max_idx = 0, 0\n",
    "\n",
    "    # Iterate through number of clusters\n",
    "    for i in range(5, 11):\n",
    "\n",
    "        kmeans = KMeans(n_clusters=i, random_state=0).fit(embeddings)\n",
    "        score = silhouette_score(embeddings, kmeans.labels_, metric='cosine')\n",
    "        \n",
    "        if score > max_:\n",
    "            max_ = score\n",
    "            max_idx = i\n",
    "\n",
    "    # Fit kmeans with best number of clusters\n",
    "    kmeans = KMeans(n_clusters=max_idx, random_state=0, n_init=\"auto\").fit(embeddings)\n",
    "\n",
    "    # Create string to write to file\n",
    "    write_string = f'{save_name}_{result_type}: {max_idx} clusters'\n",
    "\n",
    "    # Iterate through clusters and collect sentences in each cluster\n",
    "    for i in range(max_idx):\n",
    "        write_string += f'\\nCluster {i}:'\n",
    "        for j in range(len(kmeans.labels_)):\n",
    "            if kmeans.labels_[j] == i:\n",
    "                write_string += f'\\n\\t{j+1}: {words[j]}'\n",
    "\n",
    "    # Write to file\n",
    "    with open(f'results_clustering/{save_name}_{result_type}_clusters.txt', 'w') as f:\n",
    "        f.write(write_string)\n",
    "\n",
    "    # UMAP for dimensionality reduction\n",
    "    reducer = umap.UMAP(n_components=2, metric='cosine', random_state=0)\n",
    "    umap_embedding = reducer.fit_transform(embeddings)\n",
    "\n",
    "    # Create tsv with word, dim1, dim2, cluster\n",
    "    tsv_string = 'word\\tdim1\\tdim2\\tcluster\\n'\n",
    "\n",
    "    for i in range(len(words)):\n",
    "        tsv_string += f'{words[i]}\\t{umap_embedding[i][0]}\\t{umap_embedding[i][1]}\\t{kmeans.labels_[i]}\\n'\n",
    "\n",
    "    with open(f'results_clustering/{save_name}_{result_type}_clusters.tsv', 'w') as f:\n",
    "        f.write(tsv_string)"
   ]
  },
  {
   "cell_type": "code",
   "execution_count": null,
   "metadata": {},
   "outputs": [],
   "source": [
    "cluster_similarities(embedding_name='glove.840B.300d.txt',\n",
    "                        cache_path='./.vector_cache',\n",
    "                        input_file='./swe_results/glove_840B_teenager_means.csv',\n",
    "                        result_type='means',\n",
    "                        save_name='Glove_840B')"
   ]
  },
  {
   "cell_type": "code",
   "execution_count": null,
   "metadata": {},
   "outputs": [],
   "source": [
    "cluster_similarities(embedding_name='glove.840B.300d.txt',\n",
    "                        cache_path='./.vector_cache',\n",
    "                        input_file='./swe_results/glove_840B_teenager_effect_sizes.csv',\n",
    "                        result_type='effect_sizes',\n",
    "                        save_name='Glove_840B')"
   ]
  },
  {
   "cell_type": "code",
   "execution_count": null,
   "metadata": {},
   "outputs": [],
   "source": [
    "cluster_similarities(embedding_name='crawl-300d-2M.vec',\n",
    "                        cache_path='./.vector_cache',\n",
    "                        input_file='./swe_results/ft_2m_teenager_means.csv',\n",
    "                        result_type='means',\n",
    "                        save_name='FT_2M')"
   ]
  },
  {
   "cell_type": "code",
   "execution_count": null,
   "metadata": {},
   "outputs": [],
   "source": [
    "cluster_similarities(embedding_name='crawl-300d-2M.vec',\n",
    "                        cache_path='./.vector_cache',\n",
    "                        input_file='./swe_results/ft_2m_teenager_effect_sizes.csv',\n",
    "                        result_type='effect_sizes',\n",
    "                        save_name='FT_2M')"
   ]
  },
  {
   "cell_type": "code",
   "execution_count": null,
   "metadata": {},
   "outputs": [],
   "source": [
    "cluster_similarities(embedding_name='nepali_glove_vectors.txt',\n",
    "                        cache_path='./.vector_cache',\n",
    "                        input_file='./swe_results/glove_ne_teenager_means.csv',\n",
    "                        result_type='means',\n",
    "                        save_name='Nepali_Glove')"
   ]
  },
  {
   "cell_type": "code",
   "execution_count": null,
   "metadata": {},
   "outputs": [],
   "source": [
    "cluster_similarities(embedding_name='nepali_glove_vectors.txt',\n",
    "                        cache_path='./.vector_cache',\n",
    "                        input_file='./swe_results/glove_ne_teenager_effect_sizes.csv',\n",
    "                        result_type='effect_sizes',\n",
    "                        save_name='Nepali_Glove')"
   ]
  },
  {
   "cell_type": "code",
   "execution_count": null,
   "metadata": {},
   "outputs": [],
   "source": [
    "cluster_similarities(embedding_name='cc.ne.300.vec',\n",
    "                        cache_path='./.vector_cache',\n",
    "                        input_file='./swe_results/ft_ne_cc_teenager_means.csv',\n",
    "                        result_type='means',\n",
    "                        save_name='Nepali_FT_CC')"
   ]
  },
  {
   "cell_type": "code",
   "execution_count": null,
   "metadata": {},
   "outputs": [],
   "source": [
    "cluster_similarities(embedding_name='cc.ne.300.vec',\n",
    "                        cache_path='./.vector_cache',\n",
    "                        input_file='./swe_results/ft_ne_cc_teenager_effect_sizes.csv',\n",
    "                        result_type='effect_sizes',\n",
    "                        save_name='Nepali_FT_CC')"
   ]
  }
 ],
 "metadata": {
  "kernelspec": {
   "display_name": "deep_learning",
   "language": "python",
   "name": "python3"
  },
  "language_info": {
   "codemirror_mode": {
    "name": "ipython",
    "version": 3
   },
   "file_extension": ".py",
   "mimetype": "text/x-python",
   "name": "python",
   "nbconvert_exporter": "python",
   "pygments_lexer": "ipython3",
   "version": "3.11.4"
  }
 },
 "nbformat": 4,
 "nbformat_minor": 2
}
