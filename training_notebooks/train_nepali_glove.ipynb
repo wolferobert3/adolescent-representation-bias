{
  "cells": [
    {
      "cell_type": "code",
      "execution_count": null,
      "metadata": {
        "colab": {
          "base_uri": "https://localhost:8080/"
        },
        "id": "jafpXcGQev3s",
        "outputId": "63f06f25-0b5b-4f10-ee6f-6f11f3fc9f3c"
      },
      "outputs": [],
      "source": [
        "from google.colab import drive\n",
        "drive.mount('/content/drive')"
      ]
    },
    {
      "cell_type": "code",
      "execution_count": null,
      "metadata": {
        "id": "dkSsBo11eyd0"
      },
      "outputs": [],
      "source": [
        "! cp /content/drive/MyDrive/kidsbias/glovetraining/nepali_glove_trainer.zip /content/"
      ]
    },
    {
      "cell_type": "code",
      "execution_count": null,
      "metadata": {
        "colab": {
          "base_uri": "https://localhost:8080/"
        },
        "id": "Uxugswlne11r",
        "outputId": "2e5d26b0-d33e-4273-9c5c-24ed443edc16"
      },
      "outputs": [],
      "source": [
        "! unzip /content/nepali_glove_trainer.zip && make"
      ]
    },
    {
      "cell_type": "code",
      "execution_count": null,
      "metadata": {
        "id": "jkwT5xBYe6Se"
      },
      "outputs": [],
      "source": [
        "! chmod u+r+x train.sh"
      ]
    },
    {
      "cell_type": "code",
      "execution_count": null,
      "metadata": {
        "colab": {
          "background_save": true,
          "base_uri": "https://localhost:8080/"
        },
        "id": "yrv6W82JBdqz",
        "outputId": "600cfbee-b6c1-40d8-afa6-1f2f7d50cb77"
      },
      "outputs": [],
      "source": [
        "! ./train.sh"
      ]
    }
  ],
  "metadata": {
    "colab": {
      "machine_shape": "hm",
      "provenance": []
    },
    "kernelspec": {
      "display_name": "Python 3",
      "name": "python3"
    },
    "language_info": {
      "name": "python"
    }
  },
  "nbformat": 4,
  "nbformat_minor": 0
}
